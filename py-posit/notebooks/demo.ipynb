{
 "cells": [
  {
   "cell_type": "markdown",
   "id": "4832f810-6dfb-4705-adb5-25660237183e",
   "metadata": {},
   "source": [
    "# Hardposit vs japaric's posit lib"
   ]
  },
  {
   "cell_type": "code",
   "execution_count": 1,
   "id": "f4dab6a3-5e9c-421f-b585-f9c8632c07ec",
   "metadata": {},
   "outputs": [
    {
     "name": "stdout",
     "output_type": "stream",
     "text": [
      "3.9.16 (main, Mar 15 2023, 10:13:22) \n",
      "[GCC 11.3.0]\n"
     ]
    }
   ],
   "source": [
    "import sys\n",
    "print(sys.version)"
   ]
  },
  {
   "cell_type": "code",
   "execution_count": 2,
   "id": "01c39b66-6201-4b31-9f20-cc4f6c25ab95",
   "metadata": {},
   "outputs": [],
   "source": [
    "import jposit\n",
    "import hardposit"
   ]
  },
  {
   "cell_type": "code",
   "execution_count": 3,
   "id": "8d8b8d32-ec94-4653-bc3c-9abdb4150dc2",
   "metadata": {},
   "outputs": [
    {
     "name": "stdout",
     "output_type": "stream",
     "text": [
      "jposit v0.1.1\n",
      "hardposit v0.2.9\n"
     ]
    }
   ],
   "source": [
    "print(f\"jposit v{jposit.__version__}\")\n",
    "print(f\"hardposit v{hardposit.__version__}\")"
   ]
  },
  {
   "cell_type": "markdown",
   "id": "6ef09a50-b63f-4ea8-ab39-4dfc0ab2682e",
   "metadata": {},
   "source": [
    "### hardposit vs jposit"
   ]
  },
  {
   "cell_type": "code",
   "execution_count": 4,
   "id": "c88dbcff-aeeb-486b-8df3-3f97d36567e1",
   "metadata": {},
   "outputs": [
    {
     "data": {
      "text/plain": [
       "\u001b[37;41m0\u001b[30;43m111110\u001b[37;44m\u001b[37;40m1\u001b[0m P<8,0>(125) 24.0"
      ]
     },
     "execution_count": 4,
     "metadata": {},
     "output_type": "execute_result"
    }
   ],
   "source": [
    "hardposit.from_bits(125, 8, 0)"
   ]
  },
  {
   "cell_type": "code",
   "execution_count": 5,
   "id": "cc318e26-fec4-48d7-b079-0559d2ddc9a0",
   "metadata": {},
   "outputs": [
    {
     "data": {
      "text/plain": [
       "24.0"
      ]
     },
     "execution_count": 5,
     "metadata": {},
     "output_type": "execute_result"
    }
   ],
   "source": [
    "jposit.from_bits(125, 8, 0)"
   ]
  },
  {
   "cell_type": "markdown",
   "id": "4ea9da40-16f9-480f-8f1a-f8775e4dc05b",
   "metadata": {},
   "source": [
    "### hardposit vs jposit, special case (zero)"
   ]
  },
  {
   "cell_type": "code",
   "execution_count": 6,
   "id": "aac1d1f2-26de-45a7-9456-8571bd2c89cc",
   "metadata": {},
   "outputs": [
    {
     "data": {
      "text/plain": [
       "\u001b[37;41m0\u001b[0m\u001b[90m0000000\u001b[0m P<8,0>(0) 0"
      ]
     },
     "execution_count": 6,
     "metadata": {},
     "output_type": "execute_result"
    }
   ],
   "source": [
    "hardposit.from_bits(0b0, 8, 0)"
   ]
  },
  {
   "cell_type": "code",
   "execution_count": 7,
   "id": "2f2f6bf8-e21d-4b61-81be-ea19c042dfed",
   "metadata": {},
   "outputs": [
    {
     "data": {
      "text/plain": [
       "0.0"
      ]
     },
     "execution_count": 7,
     "metadata": {},
     "output_type": "execute_result"
    }
   ],
   "source": [
    "jposit.from_bits(0, 8, 0)"
   ]
  },
  {
   "cell_type": "markdown",
   "id": "978e5728-58ad-4590-89fd-3d4f52f77445",
   "metadata": {},
   "source": [
    "### hardposit vs jposit, special case (NaR)"
   ]
  },
  {
   "cell_type": "code",
   "execution_count": 8,
   "id": "7da62d25-2bb8-4307-8601-49f14f32815d",
   "metadata": {},
   "outputs": [
    {
     "data": {
      "text/plain": [
       "\u001b[37;41m1\u001b[0m\u001b[90m0000000\u001b[0m P<8,0>(128) nan"
      ]
     },
     "execution_count": 8,
     "metadata": {},
     "output_type": "execute_result"
    }
   ],
   "source": [
    "hardposit.from_bits(0b1000_0000, 8, 0)"
   ]
  },
  {
   "cell_type": "code",
   "execution_count": 9,
   "id": "68ad5e0f-7f4d-401d-a48b-8826351a0728",
   "metadata": {},
   "outputs": [
    {
     "data": {
      "text/plain": [
       "inf"
      ]
     },
     "execution_count": 9,
     "metadata": {},
     "output_type": "execute_result"
    }
   ],
   "source": [
    "jposit.from_bits(0b1000_0000, 8, 0)"
   ]
  },
  {
   "cell_type": "markdown",
   "id": "2950343c-2b45-4ec4-8b29-baac74589264",
   "metadata": {},
   "source": [
    "### hardposit vs jposit, non-modeled condition"
   ]
  },
  {
   "cell_type": "code",
   "execution_count": 10,
   "id": "539d5344-80f2-47f2-a4c7-2d31b9448c23",
   "metadata": {},
   "outputs": [
    {
     "data": {
      "text/plain": [
       "\u001b[37;41m0\u001b[30;43m110\u001b[37;44m01110\u001b[37;40m011\u001b[0m P<12,5>(1651) 96757023244288.0"
      ]
     },
     "execution_count": 10,
     "metadata": {},
     "output_type": "execute_result"
    }
   ],
   "source": [
    "hardposit.from_bits(0b0110_0111_0011, 12, 5)"
   ]
  },
  {
   "cell_type": "code",
   "execution_count": 11,
   "id": "9bdfdabb-84f1-4624-84a7-22f986ae47b2",
   "metadata": {},
   "outputs": [
    {
     "name": "stdout",
     "output_type": "stream",
     "text": [
      "*** from_bits::<12, 5> has no bindings attached. ***\n"
     ]
    }
   ],
   "source": [
    "jposit.from_bits(0b0110_0111_0011, 12, 5)"
   ]
  }
 ],
 "metadata": {
  "kernelspec": {
   "display_name": "Python 3 (ipykernel)",
   "language": "python",
   "name": "python3"
  },
  "language_info": {
   "codemirror_mode": {
    "name": "ipython",
    "version": 3
   },
   "file_extension": ".py",
   "mimetype": "text/x-python",
   "name": "python",
   "nbconvert_exporter": "python",
   "pygments_lexer": "ipython3",
   "version": "3.9.16"
  }
 },
 "nbformat": 4,
 "nbformat_minor": 5
}
