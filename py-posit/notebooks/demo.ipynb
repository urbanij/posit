{
 "cells": [
  {
   "cell_type": "markdown",
   "id": "4832f810-6dfb-4705-adb5-25660237183e",
   "metadata": {},
   "source": [
    "# [Hardposit](http://github.com/urbanij/hardposit) vs [japaric's posit library](http://github.com/urbanij/posit)"
   ]
  },
  {
   "cell_type": "code",
   "execution_count": 1,
   "id": "f4dab6a3-5e9c-421f-b585-f9c8632c07ec",
   "metadata": {},
   "outputs": [
    {
     "name": "stdout",
     "output_type": "stream",
     "text": [
      "3.11.1 (main, May  9 2023, 16:59:01) [Clang 14.0.3 (clang-1403.0.22.14.1)]\n"
     ]
    }
   ],
   "source": [
    "import sys\n",
    "print(sys.version)"
   ]
  },
  {
   "cell_type": "code",
   "execution_count": 2,
   "id": "385696bb-32df-4392-a2da-e97a3c723271",
   "metadata": {},
   "outputs": [],
   "source": [
    "# !pip install \"git+https://github.com/urbanij/posit@master#subdirectory=py-posit\""
   ]
  },
  {
   "cell_type": "code",
   "execution_count": 3,
   "id": "01c39b66-6201-4b31-9f20-cc4f6c25ab95",
   "metadata": {},
   "outputs": [],
   "source": [
    "import jposit    \n",
    "import hardposit"
   ]
  },
  {
   "cell_type": "code",
   "execution_count": 4,
   "id": "8d8b8d32-ec94-4653-bc3c-9abdb4150dc2",
   "metadata": {},
   "outputs": [
    {
     "name": "stdout",
     "output_type": "stream",
     "text": [
      "jposit v0.3.0-dev\n",
      "hardposit v0.2.9\n"
     ]
    }
   ],
   "source": [
    "print(f\"jposit v{jposit.__version__}\")\n",
    "print(f\"hardposit v{hardposit.__version__}\")"
   ]
  },
  {
   "cell_type": "markdown",
   "id": "bf97c67c-2577-4eaa-9785-896a945cdbad",
   "metadata": {},
   "source": [
    "Note:\n",
    "> run `.eval()` to get the value instead of the fancy representation on the hardposit version"
   ]
  },
  {
   "cell_type": "markdown",
   "id": "6ef09a50-b63f-4ea8-ab39-4dfc0ab2682e",
   "metadata": {},
   "source": [
    "# hardposit vs jposit"
   ]
  },
  {
   "cell_type": "markdown",
   "id": "25e2195e-8370-4346-a77b-18cf78a6c8d5",
   "metadata": {},
   "source": [
    "## from_bits()"
   ]
  },
  {
   "cell_type": "code",
   "execution_count": 5,
   "id": "c88dbcff-aeeb-486b-8df3-3f97d36567e1",
   "metadata": {},
   "outputs": [
    {
     "data": {
      "text/plain": [
       "\u001b[37;41m0\u001b[30;43m111110\u001b[37;44m\u001b[37;40m1\u001b[0m P<8,0>(125) 24.0"
      ]
     },
     "execution_count": 5,
     "metadata": {},
     "output_type": "execute_result"
    }
   ],
   "source": [
    "hardposit.from_bits(125, 8, 0)"
   ]
  },
  {
   "cell_type": "code",
   "execution_count": 6,
   "id": "cc318e26-fec4-48d7-b079-0559d2ddc9a0",
   "metadata": {},
   "outputs": [
    {
     "data": {
      "text/plain": [
       "24.0"
      ]
     },
     "execution_count": 6,
     "metadata": {},
     "output_type": "execute_result"
    }
   ],
   "source": [
    "jposit.from_bits(125, 8, 0)"
   ]
  },
  {
   "cell_type": "markdown",
   "id": "4ea9da40-16f9-480f-8f1a-f8775e4dc05b",
   "metadata": {},
   "source": [
    "### from_bits(), special case (zero)"
   ]
  },
  {
   "cell_type": "code",
   "execution_count": 7,
   "id": "aac1d1f2-26de-45a7-9456-8571bd2c89cc",
   "metadata": {},
   "outputs": [
    {
     "data": {
      "text/plain": [
       "\u001b[37;41m0\u001b[0m\u001b[90m0000000\u001b[0m P<8,0>(0) 0"
      ]
     },
     "execution_count": 7,
     "metadata": {},
     "output_type": "execute_result"
    }
   ],
   "source": [
    "hardposit.from_bits(0b0, 8, 0)"
   ]
  },
  {
   "cell_type": "code",
   "execution_count": 8,
   "id": "2f2f6bf8-e21d-4b61-81be-ea19c042dfed",
   "metadata": {},
   "outputs": [
    {
     "data": {
      "text/plain": [
       "0.0"
      ]
     },
     "execution_count": 8,
     "metadata": {},
     "output_type": "execute_result"
    }
   ],
   "source": [
    "jposit.from_bits(0, 8, 0)"
   ]
  },
  {
   "cell_type": "markdown",
   "id": "978e5728-58ad-4590-89fd-3d4f52f77445",
   "metadata": {},
   "source": [
    "### from_bits(), special case (NaR)"
   ]
  },
  {
   "cell_type": "code",
   "execution_count": 9,
   "id": "7da62d25-2bb8-4307-8601-49f14f32815d",
   "metadata": {},
   "outputs": [
    {
     "data": {
      "text/plain": [
       "\u001b[37;41m1\u001b[0m\u001b[90m0000000\u001b[0m P<8,0>(128) nan"
      ]
     },
     "execution_count": 9,
     "metadata": {},
     "output_type": "execute_result"
    }
   ],
   "source": [
    "hardposit.from_bits(0b1000_0000, 8, 0)"
   ]
  },
  {
   "cell_type": "code",
   "execution_count": 10,
   "id": "68ad5e0f-7f4d-401d-a48b-8826351a0728",
   "metadata": {},
   "outputs": [
    {
     "data": {
      "text/plain": [
       "inf"
      ]
     },
     "execution_count": 10,
     "metadata": {},
     "output_type": "execute_result"
    }
   ],
   "source": [
    "jposit.from_bits(0b1000_0000, 8, 0)"
   ]
  },
  {
   "cell_type": "markdown",
   "id": "2950343c-2b45-4ec4-8b29-baac74589264",
   "metadata": {},
   "source": [
    "### from_bits(), out-of-bound condition"
   ]
  },
  {
   "cell_type": "code",
   "execution_count": 11,
   "id": "539d5344-80f2-47f2-a4c7-2d31b9448c23",
   "metadata": {},
   "outputs": [
    {
     "data": {
      "text/plain": [
       "\u001b[37;41m0\u001b[30;43m110\u001b[37;44m01110\u001b[37;40m011\u001b[0m P<12,5>(1651) 96757023244288.0"
      ]
     },
     "execution_count": 11,
     "metadata": {},
     "output_type": "execute_result"
    }
   ],
   "source": [
    "hardposit.from_bits(0b0110_0111_0011, 12, 5)"
   ]
  },
  {
   "cell_type": "code",
   "execution_count": 12,
   "id": "9bdfdabb-84f1-4624-84a7-22f986ae47b2",
   "metadata": {},
   "outputs": [
    {
     "name": "stderr",
     "output_type": "stream",
     "text": [
      "\u001b[31m*** from_bits::<12, 5> has no bindings attached. ***\u001b[0m\n"
     ]
    },
    {
     "data": {
      "text/plain": [
       "nan"
      ]
     },
     "execution_count": 12,
     "metadata": {},
     "output_type": "execute_result"
    }
   ],
   "source": [
    "jposit.from_bits(0b0110_0111_0011, 12, 5)"
   ]
  },
  {
   "cell_type": "markdown",
   "id": "b5435a4b-3e77-4c35-a4a3-1e47255e10f5",
   "metadata": {},
   "source": [
    "## from_double()"
   ]
  },
  {
   "cell_type": "code",
   "execution_count": 13,
   "id": "ddc9a3eb-09e8-4457-936b-d1bab40d5ffe",
   "metadata": {},
   "outputs": [],
   "source": [
    "import math"
   ]
  },
  {
   "cell_type": "code",
   "execution_count": 14,
   "id": "51bc9d20-c7d8-465d-9ca0-f63b5658acdb",
   "metadata": {},
   "outputs": [
    {
     "data": {
      "text/plain": [
       "inf"
      ]
     },
     "execution_count": 14,
     "metadata": {},
     "output_type": "execute_result"
    }
   ],
   "source": [
    "jposit.from_double(math.inf, 16, 1)"
   ]
  },
  {
   "cell_type": "code",
   "execution_count": 15,
   "id": "73bc9496-5627-465c-b14d-2bbcd99e7120",
   "metadata": {},
   "outputs": [
    {
     "data": {
      "text/plain": [
       "\u001b[37;41m1\u001b[0m\u001b[90m000000000000000\u001b[0m P<16,1>(32768) nan"
      ]
     },
     "execution_count": 15,
     "metadata": {},
     "output_type": "execute_result"
    }
   ],
   "source": [
    "hardposit.from_double(math.inf, 16, 1)"
   ]
  },
  {
   "cell_type": "markdown",
   "id": "9ddaaa5f-8fb5-4805-a4b8-35df6ae00618",
   "metadata": {},
   "source": [
    "### from_double(), NaN"
   ]
  },
  {
   "cell_type": "code",
   "execution_count": 16,
   "id": "80ba4f1f-807b-4159-b2d8-2e5e8f5ca94f",
   "metadata": {},
   "outputs": [
    {
     "data": {
      "text/plain": [
       "\u001b[37;41m1\u001b[0m\u001b[90m000000000000000\u001b[0m P<16,1>(32768) nan"
      ]
     },
     "execution_count": 16,
     "metadata": {},
     "output_type": "execute_result"
    }
   ],
   "source": [
    "hardposit.from_double(math.nan, 16, 1)"
   ]
  },
  {
   "cell_type": "code",
   "execution_count": 17,
   "id": "eaa3454e-174b-4751-994a-bf2dcc88517d",
   "metadata": {},
   "outputs": [
    {
     "data": {
      "text/plain": [
       "nan"
      ]
     },
     "execution_count": 17,
     "metadata": {},
     "output_type": "execute_result"
    }
   ],
   "source": [
    "jposit.from_double(math.nan, 16, 1)"
   ]
  },
  {
   "cell_type": "markdown",
   "id": "e8416502-2ed2-423f-b3cd-aa711fcea86a",
   "metadata": {},
   "source": [
    "### from_double(), out-of-bound condition"
   ]
  },
  {
   "cell_type": "code",
   "execution_count": 18,
   "id": "5e1bd72d-b6c5-46ae-a44c-3fdc4ace38a7",
   "metadata": {},
   "outputs": [
    {
     "data": {
      "text/plain": [
       "\u001b[37;41m0\u001b[30;43m10\u001b[37;44m000100\u001b[37;40m1100011\u001b[0m P<16,6>(16995) 28.375"
      ]
     },
     "execution_count": 18,
     "metadata": {},
     "output_type": "execute_result"
    }
   ],
   "source": [
    "hardposit.from_double(28.34, 16, 6)"
   ]
  },
  {
   "cell_type": "code",
   "execution_count": 19,
   "id": "89023194-8864-45e2-9eea-f6080cf3f125",
   "metadata": {},
   "outputs": [
    {
     "name": "stderr",
     "output_type": "stream",
     "text": [
      "\u001b[31m*** from_double::<16, 6> has no bindings attached. ***\u001b[0m\n"
     ]
    },
    {
     "data": {
      "text/plain": [
       "nan"
      ]
     },
     "execution_count": 19,
     "metadata": {},
     "output_type": "execute_result"
    }
   ],
   "source": [
    "jposit.from_double(28.34, 16, 6)"
   ]
  }
 ],
 "metadata": {
  "kernelspec": {
   "display_name": "Python 3 (ipykernel)",
   "language": "python",
   "name": "python3"
  },
  "language_info": {
   "codemirror_mode": {
    "name": "ipython",
    "version": 3
   },
   "file_extension": ".py",
   "mimetype": "text/x-python",
   "name": "python",
   "nbconvert_exporter": "python",
   "pygments_lexer": "ipython3",
   "version": "3.11.1"
  }
 },
 "nbformat": 4,
 "nbformat_minor": 5
}
